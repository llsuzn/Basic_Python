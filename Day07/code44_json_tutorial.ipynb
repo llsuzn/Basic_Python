{
 "cells": [
  {
   "attachments": {},
   "cell_type": "markdown",
   "metadata": {},
   "source": [
    "# JSON 파일 읽고 쓰기\n",
    "\n",
    "### json 읽기\n",
    "모듈 불러오기\n",
    "```python\n",
    "import json\n",
    "```"
   ]
  },
  {
   "cell_type": "code",
   "execution_count": 8,
   "metadata": {},
   "outputs": [
    {
     "name": "stdout",
     "output_type": "stream",
     "text": [
      "{\"ionic\": {\"price\": 20000000, \"year\": \"2022\"}, \"genesis\": {\"price\": 80000000, \"year\": \"2021\"}, \"bmw\": {\"price\": 150000000, \"year\": \"2019\"}}\n"
     ]
    }
   ],
   "source": [
    "import json\n",
    "\n",
    "file = open('./test.json','r',encoding='utf-8')\n",
    "jsondata = json.load(file)\n",
    "# load는 json 파일을 읽어들이는 반면, loads는 json 형태의 문자열을 읽어들이는 함수입니다.\n",
    "print(json.dumps(jsondata))\n",
    "\n",
    "file.close() "
   ]
  },
  {
   "cell_type": "code",
   "execution_count": 9,
   "metadata": {},
   "outputs": [
    {
     "name": "stdout",
     "output_type": "stream",
     "text": [
      "{\n",
      "\t\"ionic\": {\n",
      "\t\t\"price\": 20000000,\n",
      "\t\t\"year\": \"2022\"\n",
      "\t},\n",
      "\t\"genesis\": {\n",
      "\t\t\"price\": 80000000,\n",
      "\t\t\"year\": \"2021\"\n",
      "\t},\n",
      "\t\"bmw\": {\n",
      "\t\t\"price\": 150000000,\n",
      "\t\t\"year\": \"2019\"\n",
      "\t}\n",
      "}\n"
     ]
    }
   ],
   "source": [
    "with open('./test.json','r',encoding='utf-8') as f: # with 사용하면 자동으로 파일 닫아준다\n",
    "    jdata = json.load(f)\n",
    "\n",
    "print(json.dumps(jdata,indent='\\t')) # 들여쓰기를 통해 깔끔하게 출력하는 옵션"
   ]
  },
  {
   "attachments": {},
   "cell_type": "markdown",
   "metadata": {},
   "source": [
    "## jdata 파일 값 읽기"
   ]
  },
  {
   "cell_type": "code",
   "execution_count": 10,
   "metadata": {},
   "outputs": [
    {
     "name": "stdout",
     "output_type": "stream",
     "text": [
      "80000000\n"
     ]
    },
    {
     "data": {
      "text/plain": [
       "{'price': 80000000, 'year': '2021'}"
      ]
     },
     "execution_count": 10,
     "metadata": {},
     "output_type": "execute_result"
    }
   ],
   "source": [
    "print(jdata['genesis']['price'])\n",
    "jdata['genesis']"
   ]
  },
  {
   "attachments": {},
   "cell_type": "markdown",
   "metadata": {},
   "source": [
    "### json 값 수정"
   ]
  },
  {
   "cell_type": "code",
   "execution_count": 11,
   "metadata": {},
   "outputs": [
    {
     "name": "stdout",
     "output_type": "stream",
     "text": [
      "{'ionic': {'price': 20000000, 'year': '2022'}, 'genesis': {'price': '95000000', 'year': '2021'}, 'bmw': {'price': 150000000, 'year': '2019'}}\n"
     ]
    }
   ],
   "source": [
    "jdata['genesis']['price'] = \"95000000\"\n",
    "\n",
    "print(jdata)"
   ]
  },
  {
   "attachments": {},
   "cell_type": "markdown",
   "metadata": {},
   "source": [
    "### json 파일 저장"
   ]
  },
  {
   "cell_type": "code",
   "execution_count": 12,
   "metadata": {},
   "outputs": [
    {
     "name": "stdout",
     "output_type": "stream",
     "text": [
      "{\n",
      "\t\"ionic\": {\n",
      "\t\t\"price\": 20000000,\n",
      "\t\t\"year\": \"2022\"\n",
      "\t},\n",
      "\t\"genesis\": {\n",
      "\t\t\"price\": \"95000000\",\n",
      "\t\t\"year\": \"2021\"\n",
      "\t},\n",
      "\t\"bmw\": {\n",
      "\t\t\"price\": 150000000,\n",
      "\t\t\"year\": \"2019\"\n",
      "\t}\n",
      "}\n"
     ]
    }
   ],
   "source": [
    "with open('./test2.json','w', encoding='utf-8') as file:\n",
    "    json.dump(jdata,file,indent='\\t',ensure_ascii=False) # json.dump() 메서드는 JSON 파일에 write 하는데 사용할 수 있습니다. json.dumps()는 JSON 파일에 write 하는데 사용할 수 있습니다.\n",
    "\n",
    "print(json.dumps(jdata,indent='\\t')) # 들여쓰기를 통해 깔끔하게 출력하는 옵션"
   ]
  },
  {
   "attachments": {},
   "cell_type": "markdown",
   "metadata": {},
   "source": [
    "### json 파일 쓰기"
   ]
  },
  {
   "cell_type": "code",
   "execution_count": 1,
   "metadata": {},
   "outputs": [
    {
     "name": "stdout",
     "output_type": "stream",
     "text": [
      "{\n",
      "\t\"audi\": {\n",
      "\t\t\"price\": 300000000,\n",
      "\t\t\"year\": \"2020\"\n",
      "\t},\n",
      "\t\"porsche\": {\n",
      "\t\t\"price\": 150000000,\n",
      "\t\t\"year\": \"2015\"\n",
      "\t}\n",
      "}\n"
     ]
    }
   ],
   "source": [
    "import json\n",
    "\n",
    "supercars = dict() # 딕셔너리 생성\n",
    "\n",
    "audi = dict()\n",
    "audi['price'] = 300000000\n",
    "audi['year'] = \"2020\"\n",
    "supercars['audi'] = audi\n",
    "\n",
    "porsche = dict()\n",
    "porsche['price'] = 150000000\n",
    "porsche['year'] = \"2015\"\n",
    "supercars['porsche'] = porsche\n",
    "\n",
    "# json 파일로 저장\n",
    "with open('./supercars.json','w', encoding='utf-8') as file:\n",
    "    json.dump(supercars,file,indent='\\t',ensure_ascii=True)\n",
    "\n",
    "# json 파일 로드\n",
    "with open('./supercars.json','r', encoding='utf-8') as file:\n",
    "    json_data = json.load(file)\n",
    "\n",
    "print(json.dumps(json_data,indent='\\t'))"
   ]
  }
 ],
 "metadata": {
  "kernelspec": {
   "display_name": "Python 3",
   "language": "python",
   "name": "python3"
  },
  "language_info": {
   "codemirror_mode": {
    "name": "ipython",
    "version": 3
   },
   "file_extension": ".py",
   "mimetype": "text/x-python",
   "name": "python",
   "nbconvert_exporter": "python",
   "pygments_lexer": "ipython3",
   "version": "3.11.1"
  },
  "orig_nbformat": 4,
  "vscode": {
   "interpreter": {
    "hash": "a3d8f53f1429d27b792a3789224562ddd32c1395c9a9cfbb17b3c19c3b9a493d"
   }
  }
 },
 "nbformat": 4,
 "nbformat_minor": 2
}
